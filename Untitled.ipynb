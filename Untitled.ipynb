{
 "cells": [
  {
   "cell_type": "markdown",
   "id": "48746ce0-e951-4f37-b004-5de1abcdbc9f",
   "metadata": {},
   "source": [
    "# APPLE STOCK PRICES PREDICTION PROJECT\r\n",
    "## \r\n",
    "Business Understandin\n",
    "### g\r\n",
    "Overview\r\n",
    "Britam Asset Managers is a leading asset management firm in Kenya, offering a range of investment solutions, including portfolio management, equity investments, and financial advisory services. They manage various investment portfolios and seek to optimize returns for their clients. They seek to enhance their investment strategies by incorporating accurate forecasts of Apple Inc.’s stock prices into its portfolio management processes. This will help in optimizing asset allocation, making informed trading decisions, and providing improved financial advisory services to clien\n",
    "### ts.\r\n",
    "Challenges\r\n",
    "Forecast Accuracy: Ensuring the model provides reliable and accurate predictions for Apple stock prices.\r\n",
    "Market Dynamics: Adapting the model to various market conditions and economic events that can impact stock prices.\r\n",
    "Integration: Seamlessly integrating forecasting insights into existing investment strategies and portfolio management systems.\r\n",
    "Client Impact: Demonstrating the value of forecasts in improving investment decisions and client satis\n",
    "### faction.\r\n",
    "Proposed Solution\r\n",
    "Develop a time series forecasting model using historical Apple stock price data obtained from the Alpha Vantage API. This model will generate predictions to support investment decisions, optimize portfolio performance, and enhance advisory\n",
    "###  services.\r\n",
    "Metrics of Success:\r\n",
    " Accu\n",
    "### racy and ROI\r\n",
    "Conclusion\r\n",
    "Implementing the forecasting model will provide Britam Asset Managers with valuable insights into future Apple stock prices, enabling more informed investment decisions and enhanced portfolio management. The success of the project will be measured based on the accuracy o\n",
    "### predictions.\r\n",
    "\r\n",
    "\r\n",
    "Problem Statement\r\n",
    "Britam Asset Managers needs a reliable time series forecasting model to predict Apple Inc. stock prices accurately. This will help the firm make better investment decisions, optimize portfolio performance, and provide valuable insights to clients.\r\n",
    "Objectives\r\n",
    "Develop a forecasting model to predict Apple stock prices using historical data.\r\n",
    "Observe Trends and Seasonality. Analyze stock price trends on a weekly, monthly, and yearly basis to identify patterns and seasonal effects that influence Apple stock prices.\r\n",
    "Assess Impact of Events. Investigate how significant events, such as earnings reports, product launches, or macroeconomic changes, affect Apple stock prices and incorporate these insights into \n",
    "## the forecasting model.\r\n",
    "Data Understanding\r\n",
    "Data Sources, Datasets, Relevance of Data\r\n",
    "Data Source: Alpha Vantage API.\r\n",
    "Datasets: Historical stock price data for Apple Inc., including features such as volume, daily highest and lowest points, daily opening and closing prices.\r\n",
    "Relevance: The data is crucial for training the forecasting model and generating accurate predictions for investment decisions.\r\n"
   ]
  },
  {
   "cell_type": "code",
   "execution_count": 1,
   "id": "21505af5-e5c6-40be-9a51-ef53b98339b7",
   "metadata": {},
   "outputs": [
    {
     "name": "stdout",
     "output_type": "stream",
     "text": [
      "dict_keys(['Meta Data', 'Time Series (Daily)'])\n",
      "              open    high     low   close     volume\n",
      "2024-08-08  213.11  214.20  208.83  213.31   47161149\n",
      "2024-08-07  206.90  213.64  206.39  209.82   63516417\n",
      "2024-08-06  205.30  209.99  201.07  207.23   69660488\n",
      "2024-08-05  199.09  213.50  196.00  209.27  119548589\n",
      "2024-08-02  219.15  225.60  217.71  219.86  105568560\n"
     ]
    }
   ],
   "source": [
    "import requests\n",
    "import pandas as pd\n",
    "\n",
    "# Replace 'your_api_key' with your actual API key\n",
    "api_key = '7Z9JO7VWAKJM0PE5'\n",
    "symbol = 'AAPL'\n",
    "function = 'TIME_SERIES_DAILY'\n",
    "outputsize = 'full'\n",
    "\n",
    "# URL for the API endpoint with outputsize=full to get the full-length data\n",
    "url = f'https://www.alphavantage.co/query?function={function}&symbol={symbol}&outputsize={outputsize}&apikey={api_key}'\n",
    "\n",
    "# Make the request and get the response in JSON format\n",
    "response = requests.get(url)\n",
    "data = response.json()\n",
    "\n",
    "# Print the keys of the JSON response for debugging\n",
    "print(data.keys())\n",
    "\n",
    "# Check if the expected key is in the response\n",
    "if 'Time Series (Daily)' in data:\n",
    "    # Extracting time series data\n",
    "    time_series = data['Time Series (Daily)']\n",
    "\n",
    "    # Converting the time series data to a pandas DataFrame\n",
    "    df = pd.DataFrame.from_dict(time_series, orient='index')\n",
    "\n",
    "    # Rename the columns for easier access\n",
    "    df.columns = ['open', 'high', 'low', 'close', 'volume']\n",
    "\n",
    "    # Convert the index to datetime format\n",
    "    df.index = pd.to_datetime(df.index)\n",
    "\n",
    "    # Convert the columns to numeric values\n",
    "    df = df.apply(pd.to_numeric)\n",
    "\n",
    "    # Filter the data for the past 10 years (2009 to 2024)\n",
    "    df = df[df.index >= pd.to_datetime('2009-01-01')]\n",
    "\n",
    "    print(df.head())\n",
    "else:\n",
    "    print(\"Error: 'Time Series (Daily)' key not found in the response. Please check the API call and response.\")\n",
    "    if 'Error Message' in data:\n",
    "        print(\"Error Message:\", data['Error Message'])\n",
    "    if 'Note' in data:\n",
    "        print(\"Note:\", data['Note'])"
   ]
  },
  {
   "cell_type": "code",
   "execution_count": 3,
   "id": "1fbc0fd0-b2be-49ab-9726-11e4a24cda20",
   "metadata": {},
   "outputs": [
    {
     "data": {
      "text/plain": [
       "(3926, 5)"
      ]
     },
     "execution_count": 3,
     "metadata": {},
     "output_type": "execute_result"
    }
   ],
   "source": [
    "df.shape"
   ]
  },
  {
   "cell_type": "code",
   "execution_count": null,
   "id": "74cac038-ff2d-4c91-9a4c-3b3f0d23411f",
   "metadata": {},
   "outputs": [],
   "source": []
  }
 ],
 "metadata": {
  "kernelspec": {
   "display_name": "Python 3 (ipykernel)",
   "language": "python",
   "name": "python3"
  },
  "language_info": {
   "codemirror_mode": {
    "name": "ipython",
    "version": 3
   },
   "file_extension": ".py",
   "mimetype": "text/x-python",
   "name": "python",
   "nbconvert_exporter": "python",
   "pygments_lexer": "ipython3",
   "version": "3.12.4"
  }
 },
 "nbformat": 4,
 "nbformat_minor": 5
}
